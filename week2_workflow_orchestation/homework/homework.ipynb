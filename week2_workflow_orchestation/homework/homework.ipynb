{
 "cells": [
  {
   "cell_type": "markdown",
   "metadata": {},
   "source": [
    "## Question 1. Data Loading\n",
    "Once the dataset is loaded, what's the shape of the data?\n",
    "\n",
    "266855 rows x 20 columns"
   ]
  },
  {
   "cell_type": "markdown",
   "metadata": {},
   "source": [
    "## Question 2. Data Transformation\n",
    "Upon filtering the dataset where the passenger count is equal to 0 or the trip distance is equal to zero, how many rows are left?\n",
    "\n",
    "139370 rows x 21 columns"
   ]
  },
  {
   "cell_type": "markdown",
   "metadata": {},
   "source": [
    "## Question 3. Data Transformation\n",
    "Which of the following creates a new column lpep_pickup_date by converting lpep_pickup_datetime to a date?\n",
    "\n",
    "    data[\"lpep_pickup_date\"] = data[\"lpep_pickup_datetime\"].dt.date\n"
   ]
  },
  {
   "cell_type": "markdown",
   "metadata": {},
   "source": [
    "## Question 4. Data Transformation\n",
    "What are the existing values of VendorID in the dataset?\n",
    "\n",
    "1 or 2"
   ]
  },
  {
   "cell_type": "markdown",
   "metadata": {},
   "source": [
    "## Question 5. Data Transformation\n",
    "How many columns need to be renamed to snake case?\n",
    "\n",
    "4"
   ]
  },
  {
   "cell_type": "markdown",
   "metadata": {},
   "source": [
    "## Question 6. Data Exporting\n",
    "Once exported, how many partitions (folders) are present in Google Cloud?\n",
    "\n",
    "95 / 96"
   ]
  },
  {
   "cell_type": "markdown",
   "metadata": {},
   "source": []
  }
 ],
 "metadata": {
  "language_info": {
   "name": "python"
  }
 },
 "nbformat": 4,
 "nbformat_minor": 2
}
