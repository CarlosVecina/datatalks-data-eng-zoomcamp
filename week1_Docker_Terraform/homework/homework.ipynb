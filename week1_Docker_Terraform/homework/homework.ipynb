{
 "cells": [
  {
   "cell_type": "markdown",
   "metadata": {},
   "source": [
    "## Question 1. Knowing docker tags\n",
    "\n",
    "--rm                             Automatically remove the container when it exits"
   ]
  },
  {
   "cell_type": "markdown",
   "metadata": {},
   "source": [
    "## Question 2. Understanding docker first run\n",
    "\n",
    "\n",
    "wheel      0.42.0"
   ]
  },
  {
   "cell_type": "markdown",
   "metadata": {},
   "source": [
    "## Question 3\n",
    "\n",
    "```\n",
    "select count(*) \n",
    "from green_taxi_trips \n",
    "where lpep_pickup_datetime >= '2019-09-18'\n",
    "and lpep_dropoff_datetime < '2019-09-19'\n",
    "```\n",
    "Response: 15612"
   ]
  },
  {
   "cell_type": "markdown",
   "metadata": {},
   "source": [
    "## Question 4\n",
    "\n",
    "```\n",
    "select \n",
    "    lpep_pickup_datetime::date,\n",
    "    sum(trip_distance) \n",
    "from green_taxi_trips \n",
    "group by 1 \n",
    "order by 2 desc\n",
    "``````\n",
    "\n",
    "Response: 2019-09-26           | 58759.9400000002 \n"
   ]
  },
  {
   "cell_type": "markdown",
   "metadata": {},
   "source": [
    "## Question 5\n",
    "\n",
    "```\n",
    "select \n",
    "    z.\"Borough\",\n",
    "    sum(gt.total_amount)  as sum_total_amount \n",
    "from green_taxi_trips gt \n",
    "left join zones z on gt.\"PULocationID\" = z.\"LocationID\"  \n",
    "where lpep_pickup_datetime >= '2019-09-18' \n",
    "and lpep_pickup_datetime < '2019-09-19' \n",
    "group by z.\"Borough\"\n",
    "having sum(gt.total_amount) >= 50000\n",
    "``````\n",
    "\n",
    " Brooklyn, Manhattan, Queens"
   ]
  },
  {
   "cell_type": "markdown",
   "metadata": {},
   "source": [
    "## Question 6. Largest tip\n",
    "\n",
    "\n",
    "```\n",
    "select \n",
    "    do_z.\"Zone\", \n",
    "    max(gt.tip_amount)  as sum_total_tips \n",
    "from green_taxi_trips gt \n",
    "left join zones pu_z on gt.\"PULocationID\" = pu_z.\"LocationID\" \n",
    "left join zones do_z on gt.\"DOLocationID\" = do_z.\"LocationID\"  \n",
    "where pu_z.\"Zone\" = 'Astoria'  \n",
    "group by 1 \n",
    "order by 2 desc  \n",
    "```\n",
    "\n",
    " Response: JFK Airport                         | 62.31 "
   ]
  }
 ],
 "metadata": {
  "language_info": {
   "name": "python"
  }
 },
 "nbformat": 4,
 "nbformat_minor": 2
}
