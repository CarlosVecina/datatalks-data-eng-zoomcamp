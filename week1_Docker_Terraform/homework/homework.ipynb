{
 "cells": [
  {
   "cell_type": "markdown",
   "metadata": {},
   "source": [
    "## Question 1. Knowing docker tags\n",
    "\n",
    "--rm                             Automatically remove the container when it exits"
   ]
  },
  {
   "cell_type": "markdown",
   "metadata": {},
   "source": [
    "## Question 2. Understanding docker first run\n",
    "\n",
    "\n",
    "wheel      0.42.0"
   ]
  },
  {
   "cell_type": "markdown",
   "metadata": {},
   "source": [
    "## Question 3\n",
    "\n",
    "```\n",
    "select count(*) \n",
    "from green_taxi_trips \n",
    "where lpep_pickup_datetime >= '2019-09-18'\n",
    "and lpep_dropoff_datetime < '2019-09-19'\n",
    "```\n",
    "Response: 15612"
   ]
  },
  {
   "cell_type": "markdown",
   "metadata": {},
   "source": [
    "## Question 4\n",
    "\n",
    "```\n",
    "select \n",
    "    lpep_pickup_datetime::date,\n",
    "    sum(trip_distance) \n",
    "from green_taxi_trips \n",
    "group by 1 \n",
    "order by 2 desc\n",
    "``````\n",
    "\n",
    "Response: 2019-09-26           | 58759.9400000002 \n"
   ]
  },
  {
   "cell_type": "markdown",
   "metadata": {},
   "source": [
    "## Question 5\n",
    "\n",
    "```\n",
    "select \n",
    "    z.\"Borough\",\n",
    "    sum(gt.total_amount)  as sum_total_amount \n",
    "from green_taxi_trips gt \n",
    "left join zones z on gt.\"PULocationID\" = z.\"LocationID\"  \n",
    "where lpep_pickup_datetime >= '2019-09-18' \n",
    "and lpep_pickup_datetime < '2019-09-19' \n",
    "group by z.\"Borough\"\n",
    "having sum(gt.total_amount) >= 50000\n",
    "``````\n",
    "\n",
    " Brooklyn, Manhattan, Queens"
   ]
  },
  {
   "cell_type": "markdown",
   "metadata": {},
   "source": [
    "## Question 6. Largest tip\n",
    "\n",
    "\n",
    "```\n",
    "select \n",
    "    do_z.\"Zone\", \n",
    "    max(gt.tip_amount)  as sum_total_tips \n",
    "from green_taxi_trips gt \n",
    "left join zones pu_z on gt.\"PULocationID\" = pu_z.\"LocationID\" \n",
    "left join zones do_z on gt.\"DOLocationID\" = do_z.\"LocationID\"  \n",
    "where pu_z.\"Zone\" = 'Astoria'  \n",
    "group by 1 \n",
    "order by 2 desc  \n",
    "```\n",
    "\n",
    " Response: JFK Airport                         | 62.31 "
   ]
  },
  {
   "cell_type": "markdown",
   "metadata": {},
   "source": [
    "## Question 7. Creating Resources\n",
    "\n",
    "After updating the main.tf and variable.tf files run:\n",
    "\n",
    "```\n",
    "➜  terraform_demo git:(master) ✗ terraform apply  \n",
    "\n",
    "Terraform used the selected providers to generate the following execution plan. Resource actions are indicated with the following symbols:\n",
    "  + create\n",
    "\n",
    "Terraform will perform the following actions:\n",
    "\n",
    "  # google_bigquery_dataset.demo_dataset will be created\n",
    "  + resource \"google_bigquery_dataset\" \"demo_dataset\" {\n",
    "      + creation_time              = (known after apply)\n",
    "      + dataset_id                 = \"demo_dataset\"\n",
    "      + default_collation          = (known after apply)\n",
    "      + delete_contents_on_destroy = false\n",
    "      + effective_labels           = (known after apply)\n",
    "      + etag                       = (known after apply)\n",
    "      + id                         = (known after apply)\n",
    "      + is_case_insensitive        = (known after apply)\n",
    "      + last_modified_time         = (known after apply)\n",
    "      + location                   = \"US\"\n",
    "      + max_time_travel_hours      = (known after apply)\n",
    "      + project                    = \"concise-quarter-411516\"\n",
    "      + self_link                  = (known after apply)\n",
    "      + storage_billing_model      = (known after apply)\n",
    "      + terraform_labels           = (known after apply)\n",
    "    }\n",
    "\n",
    "  # google_storage_bucket.demo_bucket will be created\n",
    "  + resource \"google_storage_bucket\" \"demo_bucket\" {\n",
    "      + effective_labels            = (known after apply)\n",
    "      + force_destroy               = true\n",
    "      + id                          = (known after apply)\n",
    "      + location                    = \"US\"\n",
    "      + name                        = \"terraform-demo-20240115-demo-bucket\"\n",
    "      + project                     = (known after apply)\n",
    "      + public_access_prevention    = (known after apply)\n",
    "      + rpo                         = (known after apply)\n",
    "      + self_link                   = (known after apply)\n",
    "      + storage_class               = \"STANDARD\"\n",
    "      + terraform_labels            = (known after apply)\n",
    "      + uniform_bucket_level_access = (known after apply)\n",
    "      + url                         = (known after apply)\n",
    "\n",
    "      + lifecycle_rule {\n",
    "          + action {\n",
    "              + type = \"AbortIncompleteMultipartUpload\"\n",
    "            }\n",
    "          + condition {\n",
    "              + age                   = 1\n",
    "              + matches_prefix        = []\n",
    "              + matches_storage_class = []\n",
    "              + matches_suffix        = []\n",
    "              + with_state            = (known after apply)\n",
    "            }\n",
    "        }\n",
    "    }\n",
    "\n",
    "Plan: 2 to add, 0 to change, 0 to destroy.\n",
    "\n",
    "Do you want to perform these actions?\n",
    "  Terraform will perform the actions described above.\n",
    "  Only 'yes' will be accepted to approve.\n",
    "\n",
    "  Enter a value: yes\n",
    "\n",
    "google_bigquery_dataset.demo_dataset: Creating...\n",
    "google_storage_bucket.demo_bucket: Creating...\n",
    "google_bigquery_dataset.demo_dataset: Creation complete after 1s [id=projects/concise-quarter-411516/datasets/demo_dataset]\n",
    "google_storage_bucket.demo_bucket: Creation complete after 1s [id=terraform-demo-20240115-demo-bucket]\n",
    "\n",
    "Apply complete! Resources: 2 added, 0 changed, 0 destroyed.\n",
    "```"
   ]
  }
 ],
 "metadata": {
  "language_info": {
   "name": "python"
  }
 },
 "nbformat": 4,
 "nbformat_minor": 2
}
